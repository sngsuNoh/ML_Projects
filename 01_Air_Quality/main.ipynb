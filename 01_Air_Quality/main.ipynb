{
 "cells": [
  {
   "cell_type": "markdown",
   "metadata": {},
   "source": [
    "# Air Quality Analysis"
   ]
  },
  {
   "cell_type": "markdown",
   "metadata": {},
   "source": [
    "#### 공기의 질에 영향을 미치는 다양한 feature를 분석해 본다. \n",
    "#### 회귀분석을 통해 각 변수와 공기질 간의 상관관계를 확인해 본다. "
   ]
  }
 ],
 "metadata": {
  "language_info": {
   "name": "python"
  }
 },
 "nbformat": 4,
 "nbformat_minor": 2
}
